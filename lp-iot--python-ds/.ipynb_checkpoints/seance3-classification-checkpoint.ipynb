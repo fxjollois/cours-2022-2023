{
 "cells": [
  {
   "cell_type": "markdown",
   "metadata": {
    "run_control": {
     "frozen": false,
     "read_only": false
    }
   },
   "source": [
    "# Classification sous `Python`\n",
    "\n",
    "Nous utilisons encore le module [`scikit-learn`](http://scikit-learn.org/), dédié au *Machine Learning*. "
   ]
  },
  {
   "cell_type": "code",
   "execution_count": 1,
   "metadata": {},
   "outputs": [],
   "source": [
    "import numpy\n",
    "import pandas\n",
    "import matplotlib.pyplot as plt\n",
    "import seaborn\n",
    "seaborn.set_style(\"white\") # change le style par défaut des graphiques seaborn\n",
    "\n",
    "%matplotlib inline"
   ]
  },
  {
   "cell_type": "markdown",
   "metadata": {
    "run_control": {
     "frozen": false,
     "read_only": false
    }
   },
   "source": [
    "Pour tester les méthodes de classification, nous allons continuer l'étude de cas sur les données [`WGI`](https://fxjollois.github.io/donnees/WGI/wgi2019.csv). "
   ]
  },
  {
   "cell_type": "code",
   "execution_count": 2,
   "metadata": {
    "scrolled": true
   },
   "outputs": [
    {
     "data": {
      "text/html": [
       "<div>\n",
       "<style scoped>\n",
       "    .dataframe tbody tr th:only-of-type {\n",
       "        vertical-align: middle;\n",
       "    }\n",
       "\n",
       "    .dataframe tbody tr th {\n",
       "        vertical-align: top;\n",
       "    }\n",
       "\n",
       "    .dataframe thead th {\n",
       "        text-align: right;\n",
       "    }\n",
       "</style>\n",
       "<table border=\"1\" class=\"dataframe\">\n",
       "  <thead>\n",
       "    <tr style=\"text-align: right;\">\n",
       "      <th></th>\n",
       "      <th>Country</th>\n",
       "      <th>Code</th>\n",
       "      <th>Voice and Accountability</th>\n",
       "      <th>Political Stability and Absence of Violence/Terrorism</th>\n",
       "      <th>Government Effectiveness</th>\n",
       "      <th>Regulatory Quality</th>\n",
       "      <th>Rule of Law</th>\n",
       "      <th>Control of Corruption</th>\n",
       "    </tr>\n",
       "  </thead>\n",
       "  <tbody>\n",
       "    <tr>\n",
       "      <th>0</th>\n",
       "      <td>Aruba</td>\n",
       "      <td>ABW</td>\n",
       "      <td>1.294189</td>\n",
       "      <td>1.357372</td>\n",
       "      <td>1.029933</td>\n",
       "      <td>0.857360</td>\n",
       "      <td>1.263128</td>\n",
       "      <td>1.217238</td>\n",
       "    </tr>\n",
       "    <tr>\n",
       "      <th>1</th>\n",
       "      <td>Andorra</td>\n",
       "      <td>ADO</td>\n",
       "      <td>1.139154</td>\n",
       "      <td>1.615139</td>\n",
       "      <td>1.908749</td>\n",
       "      <td>1.228176</td>\n",
       "      <td>1.579939</td>\n",
       "      <td>1.234392</td>\n",
       "    </tr>\n",
       "    <tr>\n",
       "      <th>2</th>\n",
       "      <td>Afghanistan</td>\n",
       "      <td>AFG</td>\n",
       "      <td>-0.988032</td>\n",
       "      <td>-2.649407</td>\n",
       "      <td>-1.463875</td>\n",
       "      <td>-1.120555</td>\n",
       "      <td>-1.713527</td>\n",
       "      <td>-1.401076</td>\n",
       "    </tr>\n",
       "    <tr>\n",
       "      <th>3</th>\n",
       "      <td>Angola</td>\n",
       "      <td>AGO</td>\n",
       "      <td>-0.777283</td>\n",
       "      <td>-0.311101</td>\n",
       "      <td>-1.117144</td>\n",
       "      <td>-0.893871</td>\n",
       "      <td>-1.054343</td>\n",
       "      <td>-1.054683</td>\n",
       "    </tr>\n",
       "    <tr>\n",
       "      <th>5</th>\n",
       "      <td>Albania</td>\n",
       "      <td>ALB</td>\n",
       "      <td>0.151805</td>\n",
       "      <td>0.118570</td>\n",
       "      <td>-0.061331</td>\n",
       "      <td>0.274380</td>\n",
       "      <td>-0.411179</td>\n",
       "      <td>-0.528758</td>\n",
       "    </tr>\n",
       "    <tr>\n",
       "      <th>...</th>\n",
       "      <td>...</td>\n",
       "      <td>...</td>\n",
       "      <td>...</td>\n",
       "      <td>...</td>\n",
       "      <td>...</td>\n",
       "      <td>...</td>\n",
       "      <td>...</td>\n",
       "      <td>...</td>\n",
       "    </tr>\n",
       "    <tr>\n",
       "      <th>209</th>\n",
       "      <td>Serbia</td>\n",
       "      <td>SRB</td>\n",
       "      <td>0.026626</td>\n",
       "      <td>-0.091665</td>\n",
       "      <td>0.019079</td>\n",
       "      <td>0.113867</td>\n",
       "      <td>-0.119070</td>\n",
       "      <td>-0.445551</td>\n",
       "    </tr>\n",
       "    <tr>\n",
       "      <th>210</th>\n",
       "      <td>South Africa</td>\n",
       "      <td>ZAF</td>\n",
       "      <td>0.670388</td>\n",
       "      <td>-0.217931</td>\n",
       "      <td>0.367380</td>\n",
       "      <td>0.156172</td>\n",
       "      <td>-0.076408</td>\n",
       "      <td>0.084924</td>\n",
       "    </tr>\n",
       "    <tr>\n",
       "      <th>211</th>\n",
       "      <td>Congo, Dem. Rep.</td>\n",
       "      <td>ZAR</td>\n",
       "      <td>-1.365966</td>\n",
       "      <td>-1.808007</td>\n",
       "      <td>-1.627429</td>\n",
       "      <td>-1.509667</td>\n",
       "      <td>-1.786088</td>\n",
       "      <td>-1.538931</td>\n",
       "    </tr>\n",
       "    <tr>\n",
       "      <th>212</th>\n",
       "      <td>Zambia</td>\n",
       "      <td>ZMB</td>\n",
       "      <td>-0.286199</td>\n",
       "      <td>-0.102216</td>\n",
       "      <td>-0.675215</td>\n",
       "      <td>-0.554269</td>\n",
       "      <td>-0.462069</td>\n",
       "      <td>-0.640345</td>\n",
       "    </tr>\n",
       "    <tr>\n",
       "      <th>213</th>\n",
       "      <td>Zimbabwe</td>\n",
       "      <td>ZWE</td>\n",
       "      <td>-1.141875</td>\n",
       "      <td>-0.920179</td>\n",
       "      <td>-1.205337</td>\n",
       "      <td>-1.463199</td>\n",
       "      <td>-1.257009</td>\n",
       "      <td>-1.238796</td>\n",
       "    </tr>\n",
       "  </tbody>\n",
       "</table>\n",
       "<p>202 rows × 8 columns</p>\n",
       "</div>"
      ],
      "text/plain": [
       "              Country Code  Voice and Accountability  \\\n",
       "0               Aruba  ABW                  1.294189   \n",
       "1             Andorra  ADO                  1.139154   \n",
       "2         Afghanistan  AFG                 -0.988032   \n",
       "3              Angola  AGO                 -0.777283   \n",
       "5             Albania  ALB                  0.151805   \n",
       "..                ...  ...                       ...   \n",
       "209            Serbia  SRB                  0.026626   \n",
       "210      South Africa  ZAF                  0.670388   \n",
       "211  Congo, Dem. Rep.  ZAR                 -1.365966   \n",
       "212            Zambia  ZMB                 -0.286199   \n",
       "213          Zimbabwe  ZWE                 -1.141875   \n",
       "\n",
       "     Political Stability and Absence of Violence/Terrorism  \\\n",
       "0                                             1.357372       \n",
       "1                                             1.615139       \n",
       "2                                            -2.649407       \n",
       "3                                            -0.311101       \n",
       "5                                             0.118570       \n",
       "..                                                 ...       \n",
       "209                                          -0.091665       \n",
       "210                                          -0.217931       \n",
       "211                                          -1.808007       \n",
       "212                                          -0.102216       \n",
       "213                                          -0.920179       \n",
       "\n",
       "     Government Effectiveness  Regulatory Quality  Rule of Law  \\\n",
       "0                    1.029933            0.857360     1.263128   \n",
       "1                    1.908749            1.228176     1.579939   \n",
       "2                   -1.463875           -1.120555    -1.713527   \n",
       "3                   -1.117144           -0.893871    -1.054343   \n",
       "5                   -0.061331            0.274380    -0.411179   \n",
       "..                        ...                 ...          ...   \n",
       "209                  0.019079            0.113867    -0.119070   \n",
       "210                  0.367380            0.156172    -0.076408   \n",
       "211                 -1.627429           -1.509667    -1.786088   \n",
       "212                 -0.675215           -0.554269    -0.462069   \n",
       "213                 -1.205337           -1.463199    -1.257009   \n",
       "\n",
       "     Control of Corruption  \n",
       "0                 1.217238  \n",
       "1                 1.234392  \n",
       "2                -1.401076  \n",
       "3                -1.054683  \n",
       "5                -0.528758  \n",
       "..                     ...  \n",
       "209              -0.445551  \n",
       "210               0.084924  \n",
       "211              -1.538931  \n",
       "212              -0.640345  \n",
       "213              -1.238796  \n",
       "\n",
       "[202 rows x 8 columns]"
      ]
     },
     "execution_count": 2,
     "metadata": {},
     "output_type": "execute_result"
    }
   ],
   "source": [
    "# le dropna() permet de supprimer les pays pour lesquels il manque des informations\n",
    "WGI_complet = pandas.read_csv(\"https://fxjollois.github.io/donnees/WGI/wgi2019.csv\").dropna()\n",
    "WGI_complet"
   ]
  },
  {
   "cell_type": "code",
   "execution_count": null,
   "metadata": {},
   "outputs": [],
   "source": []
  },
  {
   "cell_type": "markdown",
   "metadata": {},
   "source": [
    "## Classification\n",
    "\n",
    "Nous allons ici réaliser une classification non supervisée avec 3 méthodes (CAH, $k$-means et DBSCAN). Bien évidemment, ici, nous pouvons peut-être supposé qu'une partition en 6 classes (1 par continent) est possible. Mais nous n'avons pas de réelle idée de ce nombre de classes. Pour l'estimer, nous allons utiliser 2 techniques.\n",
    "\n",
    "### Classification Ascendante Hiérarchique (CAH)\n",
    "\n",
    "La première possibilité est d'utiliser la CAH, afin d'obtenir un dendrogramme représentant les regroupements 2 à 2 de toutes les classes. \n",
    "\n",
    "Tout d'abord, nous importons la méthode, puis nous l'appliquons. Ici, on indique qu'on ne souhaite pas réaliser de *découpage* au préalable, et donc qu'on souhaite garder toute la hiérarchie. Voici pourquoi on choisit `0` pour le paramètre `distance_threshold` et `None` pour `n_clusters`. Le paramètre `affinity` permet de choisir la distance utilisée (`euclidean` par défaut - ce qui nous va bien). Le paramètre `linkage` permet lui de choisir le critère d'aggrégation entre deux classes (`ward` par défaut - ce qui nous va bien aussi)."
   ]
  },
  {
   "cell_type": "code",
   "execution_count": 3,
   "metadata": {},
   "outputs": [
    {
     "data": {
      "text/plain": [
       "AgglomerativeClustering(distance_threshold=0, n_clusters=None)"
      ]
     },
     "execution_count": 3,
     "metadata": {},
     "output_type": "execute_result"
    }
   ],
   "source": [
    "from sklearn.cluster import AgglomerativeClustering\n",
    "\n",
    "WGI_num = WGI_complet.drop(columns = [\"Country\", \"Code\"])\n",
    "hac = AgglomerativeClustering(distance_threshold = 0, n_clusters = None)\n",
    "hac.fit(WGI_num)"
   ]
  },
  {
   "cell_type": "markdown",
   "metadata": {},
   "source": [
    "Cette [page](https://scikit-learn.org/stable/auto_examples/cluster/plot_agglomerative_dendrogram.html#sphx-glr-auto-examples-cluster-plot-agglomerative-dendrogram-py) décrit le programme permettant d'afficher le dendrogramme à partir du résultat de la fonction ci-dessous. Je recopie ici que la fonction (avec un peu d'adaptation)."
   ]
  },
  {
   "cell_type": "code",
   "execution_count": 4,
   "metadata": {},
   "outputs": [],
   "source": [
    "from scipy.cluster.hierarchy import dendrogram\n",
    "\n",
    "def plot_dendrogram(model, **kwargs):\n",
    "    # Create linkage matrix and then plot the dendrogram\n",
    "\n",
    "    # create the counts of samples under each node\n",
    "    counts = numpy.zeros(model.children_.shape[0])\n",
    "    n_samples = len(model.labels_)\n",
    "    for i, merge in enumerate(model.children_):\n",
    "        current_count = 0\n",
    "        for child_idx in merge:\n",
    "            if child_idx < n_samples:\n",
    "                current_count += 1  # leaf node\n",
    "            else:\n",
    "                current_count += counts[child_idx - n_samples]\n",
    "        counts[i] = current_count\n",
    "\n",
    "    linkage_matrix = numpy.column_stack([model.children_, model.distances_, counts]).astype(float)\n",
    "\n",
    "    # Plot the corresponding dendrogram\n",
    "    dendrogram(linkage_matrix, **kwargs)"
   ]
  },
  {
   "cell_type": "markdown",
   "metadata": {},
   "source": [
    "Nous utilisons donc cette méthode sur nos pays. On remarque un saut important entre 2 et 3 classes, puis entre 3 et 4 classes (et un peu moindre entre 4 et 5 classes). On imagine donc qu'on pourrait couper la hiérarchie à ces 2 niveaux (cf graphique). Ainsi, cela suggère qu'on pourrait avoir une partition soit en 2 classes, soit en 3 classes."
   ]
  },
  {
   "cell_type": "code",
   "execution_count": 5,
   "metadata": {
    "scrolled": false
   },
   "outputs": [
    {
     "data": {
      "image/png": "[encoded data removed]",
      "text/plain": [
       "<Figure size 1152x432 with 1 Axes>"
      ]
     },
     "metadata": {
      "needs_background": "light"
     },
     "output_type": "display_data"
    }
   ],
   "source": [
    "plt.figure(figsize = (16, 6))\n",
    "plt.title(\"CAH (Ward) sur les pays\")\n",
    "# plot the top three levels of the dendrogram\n",
    "plot_dendrogram(hac)\n",
    "plt.axhline(y = 27, linewidth = .5, color = \"dimgray\", linestyle = \"--\")\n",
    "plt.axhline(y = 15, linewidth = .5, color = \"dimgray\", linestyle = \"--\")\n",
    "plt.axhline(y = 9, linewidth = .5, color = \"dimgray\", linestyle = \"--\")\n",
    "plt.show()"
   ]
  },
  {
   "cell_type": "markdown",
   "metadata": {},
   "source": [
    "Pour récupérer la partition, il faut relancer la méthode en changeant le paramètre `n_clusters` (et en laissant la valeur par défaut pour `distance_threshold`). On va tester 2 et 3 classes. Pour chaque partition obtenue, nous allons regarder la taille des classes et les valeurs moyennes de chaque variable.\n",
    "\n",
    "#### Avec 2 classes"
   ]
  },
  {
   "cell_type": "code",
   "execution_count": 6,
   "metadata": {},
   "outputs": [
    {
     "data": {
      "text/plain": [
       "AgglomerativeClustering()"
      ]
     },
     "execution_count": 6,
     "metadata": {},
     "output_type": "execute_result"
    }
   ],
   "source": [
    "hac2 = AgglomerativeClustering(n_clusters = 2)\n",
    "hac2.fit(WGI_num)"
   ]
  },
  {
   "cell_type": "code",
   "execution_count": 7,
   "metadata": {},
   "outputs": [
    {
     "data": {
      "text/html": [
       "<div>\n",
       "<style scoped>\n",
       "    .dataframe tbody tr th:only-of-type {\n",
       "        vertical-align: middle;\n",
       "    }\n",
       "\n",
       "    .dataframe tbody tr th {\n",
       "        vertical-align: top;\n",
       "    }\n",
       "\n",
       "    .dataframe thead th {\n",
       "        text-align: right;\n",
       "    }\n",
       "</style>\n",
       "<table border=\"1\" class=\"dataframe\">\n",
       "  <thead>\n",
       "    <tr style=\"text-align: right;\">\n",
       "      <th></th>\n",
       "      <th>Effectif</th>\n",
       "    </tr>\n",
       "    <tr>\n",
       "      <th>Classe</th>\n",
       "      <th></th>\n",
       "    </tr>\n",
       "  </thead>\n",
       "  <tbody>\n",
       "    <tr>\n",
       "      <th>0</th>\n",
       "      <td>129</td>\n",
       "    </tr>\n",
       "    <tr>\n",
       "      <th>1</th>\n",
       "      <td>73</td>\n",
       "    </tr>\n",
       "  </tbody>\n",
       "</table>\n",
       "</div>"
      ],
      "text/plain": [
       "        Effectif\n",
       "Classe          \n",
       "0            129\n",
       "1             73"
      ]
     },
     "execution_count": 7,
     "metadata": {},
     "output_type": "execute_result"
    }
   ],
   "source": [
    "pandas.DataFrame(hac2.labels_, columns = [\"Classe\"]).assign(Effectif = 1).groupby(\"Classe\").count()"
   ]
  },
  {
   "cell_type": "code",
   "execution_count": 8,
   "metadata": {
    "scrolled": true
   },
   "outputs": [
    {
     "data": {
      "text/html": [
       "<div>\n",
       "<style scoped>\n",
       "    .dataframe tbody tr th:only-of-type {\n",
       "        vertical-align: middle;\n",
       "    }\n",
       "\n",
       "    .dataframe tbody tr th {\n",
       "        vertical-align: top;\n",
       "    }\n",
       "\n",
       "    .dataframe thead th {\n",
       "        text-align: right;\n",
       "    }\n",
       "</style>\n",
       "<table border=\"1\" class=\"dataframe\">\n",
       "  <thead>\n",
       "    <tr style=\"text-align: right;\">\n",
       "      <th></th>\n",
       "      <th>Voice and Accountability</th>\n",
       "      <th>Political Stability and Absence of Violence/Terrorism</th>\n",
       "      <th>Government Effectiveness</th>\n",
       "      <th>Regulatory Quality</th>\n",
       "      <th>Rule of Law</th>\n",
       "      <th>Control of Corruption</th>\n",
       "    </tr>\n",
       "    <tr>\n",
       "      <th>Classe</th>\n",
       "      <th></th>\n",
       "      <th></th>\n",
       "      <th></th>\n",
       "      <th></th>\n",
       "      <th></th>\n",
       "      <th></th>\n",
       "    </tr>\n",
       "  </thead>\n",
       "  <tbody>\n",
       "    <tr>\n",
       "      <th>0</th>\n",
       "      <td>-0.498394</td>\n",
       "      <td>-0.536321</td>\n",
       "      <td>-0.615752</td>\n",
       "      <td>-0.603835</td>\n",
       "      <td>-0.633716</td>\n",
       "      <td>-0.641430</td>\n",
       "    </tr>\n",
       "    <tr>\n",
       "      <th>1</th>\n",
       "      <td>0.854999</td>\n",
       "      <td>0.824537</td>\n",
       "      <td>1.006136</td>\n",
       "      <td>0.996369</td>\n",
       "      <td>1.032080</td>\n",
       "      <td>1.023469</td>\n",
       "    </tr>\n",
       "  </tbody>\n",
       "</table>\n",
       "</div>"
      ],
      "text/plain": [
       "        Voice and Accountability  \\\n",
       "Classe                             \n",
       "0                      -0.498394   \n",
       "1                       0.854999   \n",
       "\n",
       "        Political Stability and Absence of Violence/Terrorism  \\\n",
       "Classe                                                          \n",
       "0                                               -0.536321       \n",
       "1                                                0.824537       \n",
       "\n",
       "        Government Effectiveness  Regulatory Quality  Rule of Law  \\\n",
       "Classe                                                              \n",
       "0                      -0.615752           -0.603835    -0.633716   \n",
       "1                       1.006136            0.996369     1.032080   \n",
       "\n",
       "        Control of Corruption  \n",
       "Classe                         \n",
       "0                   -0.641430  \n",
       "1                    1.023469  "
      ]
     },
     "execution_count": 8,
     "metadata": {},
     "output_type": "execute_result"
    }
   ],
   "source": [
    "WGI_num.assign(Classe = hac2.labels_).groupby(\"Classe\").mean()"
   ]
  },
  {
   "cell_type": "markdown",
   "metadata": {},
   "source": [
    "On a ici une classe avec des valeurs plutôt négatives pour chaque variable et une autre avec des valeurs positives."
   ]
  },
  {
   "cell_type": "code",
   "execution_count": 9,
   "metadata": {},
   "outputs": [
    {
     "data": {
      "image/png": "[encoded data removed]",
      "text/plain": [
       "<Figure size 1152x576 with 1 Axes>"
      ]
     },
     "metadata": {
      "needs_background": "light"
     },
     "output_type": "display_data"
    }
   ],
   "source": [
    "plt.figure(figsize = (16, 8))\n",
    "df = pandas.melt(WGI_num.assign(Classe = hac2.labels_), id_vars = 'Classe')\n",
    "seaborn.boxplot(data = df, y = \"variable\", x = \"value\", hue = \"Classe\")\n",
    "plt.show()"
   ]
  },
  {
   "cell_type": "markdown",
   "metadata": {},
   "source": [
    "\n",
    "#### Avec 3 classes\n"
   ]
  },
  {
   "cell_type": "code",
   "execution_count": 10,
   "metadata": {},
   "outputs": [
    {
     "data": {
      "text/plain": [
       "AgglomerativeClustering(n_clusters=3)"
      ]
     },
     "execution_count": 10,
     "metadata": {},
     "output_type": "execute_result"
    }
   ],
   "source": [
    "hac3 = AgglomerativeClustering(n_clusters = 3)\n",
    "hac3.fit(WGI_num)"
   ]
  },
  {
   "cell_type": "code",
   "execution_count": 11,
   "metadata": {},
   "outputs": [
    {
     "data": {
      "text/html": [
       "<div>\n",
       "<style scoped>\n",
       "    .dataframe tbody tr th:only-of-type {\n",
       "        vertical-align: middle;\n",
       "    }\n",
       "\n",
       "    .dataframe tbody tr th {\n",
       "        vertical-align: top;\n",
       "    }\n",
       "\n",
       "    .dataframe thead th {\n",
       "        text-align: right;\n",
       "    }\n",
       "</style>\n",
       "<table border=\"1\" class=\"dataframe\">\n",
       "  <thead>\n",
       "    <tr style=\"text-align: right;\">\n",
       "      <th></th>\n",
       "      <th>Effectif</th>\n",
       "    </tr>\n",
       "    <tr>\n",
       "      <th>Classe</th>\n",
       "      <th></th>\n",
       "    </tr>\n",
       "  </thead>\n",
       "  <tbody>\n",
       "    <tr>\n",
       "      <th>0</th>\n",
       "      <td>73</td>\n",
       "    </tr>\n",
       "    <tr>\n",
       "      <th>1</th>\n",
       "      <td>66</td>\n",
       "    </tr>\n",
       "    <tr>\n",
       "      <th>2</th>\n",
       "      <td>63</td>\n",
       "    </tr>\n",
       "  </tbody>\n",
       "</table>\n",
       "</div>"
      ],
      "text/plain": [
       "        Effectif\n",
       "Classe          \n",
       "0             73\n",
       "1             66\n",
       "2             63"
      ]
     },
     "execution_count": 11,
     "metadata": {},
     "output_type": "execute_result"
    }
   ],
   "source": [
    "pandas.DataFrame(hac3.labels_, columns = [\"Classe\"]).assign(Effectif = 1).groupby(\"Classe\").count()"
   ]
  },
  {
   "cell_type": "code",
   "execution_count": 12,
   "metadata": {
    "scrolled": true
   },
   "outputs": [
    {
     "data": {
      "text/html": [
       "<div>\n",
       "<style scoped>\n",
       "    .dataframe tbody tr th:only-of-type {\n",
       "        vertical-align: middle;\n",
       "    }\n",
       "\n",
       "    .dataframe tbody tr th {\n",
       "        vertical-align: top;\n",
       "    }\n",
       "\n",
       "    .dataframe thead th {\n",
       "        text-align: right;\n",
       "    }\n",
       "</style>\n",
       "<table border=\"1\" class=\"dataframe\">\n",
       "  <thead>\n",
       "    <tr style=\"text-align: right;\">\n",
       "      <th></th>\n",
       "      <th>Voice and Accountability</th>\n",
       "      <th>Political Stability and Absence of Violence/Terrorism</th>\n",
       "      <th>Government Effectiveness</th>\n",
       "      <th>Regulatory Quality</th>\n",
       "      <th>Rule of Law</th>\n",
       "      <th>Control of Corruption</th>\n",
       "    </tr>\n",
       "    <tr>\n",
       "      <th>Classe</th>\n",
       "      <th></th>\n",
       "      <th></th>\n",
       "      <th></th>\n",
       "      <th></th>\n",
       "      <th></th>\n",
       "      <th></th>\n",
       "    </tr>\n",
       "  </thead>\n",
       "  <tbody>\n",
       "    <tr>\n",
       "      <th>0</th>\n",
       "      <td>0.854999</td>\n",
       "      <td>0.824537</td>\n",
       "      <td>1.006136</td>\n",
       "      <td>0.996369</td>\n",
       "      <td>1.032080</td>\n",
       "      <td>1.023469</td>\n",
       "    </tr>\n",
       "    <tr>\n",
       "      <th>1</th>\n",
       "      <td>-0.959242</td>\n",
       "      <td>-1.062068</td>\n",
       "      <td>-1.052668</td>\n",
       "      <td>-0.990906</td>\n",
       "      <td>-1.041426</td>\n",
       "      <td>-1.029118</td>\n",
       "    </tr>\n",
       "    <tr>\n",
       "      <th>2</th>\n",
       "      <td>-0.015602</td>\n",
       "      <td>0.014461</td>\n",
       "      <td>-0.158030</td>\n",
       "      <td>-0.198332</td>\n",
       "      <td>-0.206592</td>\n",
       "      <td>-0.235281</td>\n",
       "    </tr>\n",
       "  </tbody>\n",
       "</table>\n",
       "</div>"
      ],
      "text/plain": [
       "        Voice and Accountability  \\\n",
       "Classe                             \n",
       "0                       0.854999   \n",
       "1                      -0.959242   \n",
       "2                      -0.015602   \n",
       "\n",
       "        Political Stability and Absence of Violence/Terrorism  \\\n",
       "Classe                                                          \n",
       "0                                                0.824537       \n",
       "1                                               -1.062068       \n",
       "2                                                0.014461       \n",
       "\n",
       "        Government Effectiveness  Regulatory Quality  Rule of Law  \\\n",
       "Classe                                                              \n",
       "0                       1.006136            0.996369     1.032080   \n",
       "1                      -1.052668           -0.990906    -1.041426   \n",
       "2                      -0.158030           -0.198332    -0.206592   \n",
       "\n",
       "        Control of Corruption  \n",
       "Classe                         \n",
       "0                    1.023469  \n",
       "1                   -1.029118  \n",
       "2                   -0.235281  "
      ]
     },
     "execution_count": 12,
     "metadata": {},
     "output_type": "execute_result"
    }
   ],
   "source": [
    "WGI_num.assign(Classe = hac3.labels_).groupby(\"Classe\").mean()"
   ]
  },
  {
   "cell_type": "markdown",
   "metadata": {},
   "source": [
    "On a maintenant une classe avec des valeurs négatives (proches de -1), une autre avec des valeurs positives (proche de 1), et une dernière classe avec des valeurs autour de 0. C'est la classe avec les valeurs positives qui a été coupée en deux."
   ]
  },
  {
   "cell_type": "code",
   "execution_count": 13,
   "metadata": {},
   "outputs": [
    {
     "data": {
      "image/png": "[encoded data removed]",
      "text/plain": [
       "<Figure size 1152x576 with 1 Axes>"
      ]
     },
     "metadata": {
      "needs_background": "light"
     },
     "output_type": "display_data"
    }
   ],
   "source": [
    "plt.figure(figsize = (16, 8))\n",
    "df = pandas.melt(WGI_num.assign(Classe = hac3.labels_), id_vars = 'Classe')\n",
    "seaborn.boxplot(data = df, y = \"variable\", x = \"value\", hue = \"Classe\")\n",
    "plt.show()"
   ]
  },
  {
   "cell_type": "markdown",
   "metadata": {},
   "source": [
    "### $k$-means\n",
    "\n",
    "L'autre méthode de classification classique est la méthode des $k$-means. Elle est très rapide, mais nécessite de déterminer à l'avance le nombre de classes. Nous allons l'appliquer avec 2 et 3 classes afin de voir quelle partition serait la plus intéressante.\n",
    "\n",
    "#### 2 classes"
   ]
  },
  {
   "cell_type": "code",
   "execution_count": 14,
   "metadata": {},
   "outputs": [
    {
     "data": {
      "text/plain": [
       "KMeans(n_clusters=2)"
      ]
     },
     "execution_count": 14,
     "metadata": {},
     "output_type": "execute_result"
    }
   ],
   "source": [
    "from sklearn.cluster import KMeans\n",
    "\n",
    "kmeans2 = KMeans(n_clusters = 2)\n",
    "kmeans2.fit(WGI_num)"
   ]
  },
  {
   "cell_type": "markdown",
   "metadata": {},
   "source": [
    "On peut avoir ainsi les classes de chaque individus (qui nous servent ici à calculer la taille de chaque classe), ainsi que les centres des classes."
   ]
  },
  {
   "cell_type": "code",
   "execution_count": 15,
   "metadata": {
    "scrolled": true
   },
   "outputs": [
    {
     "data": {
      "text/html": [
       "<div>\n",
       "<style scoped>\n",
       "    .dataframe tbody tr th:only-of-type {\n",
       "        vertical-align: middle;\n",
       "    }\n",
       "\n",
       "    .dataframe tbody tr th {\n",
       "        vertical-align: top;\n",
       "    }\n",
       "\n",
       "    .dataframe thead th {\n",
       "        text-align: right;\n",
       "    }\n",
       "</style>\n",
       "<table border=\"1\" class=\"dataframe\">\n",
       "  <thead>\n",
       "    <tr style=\"text-align: right;\">\n",
       "      <th></th>\n",
       "      <th>Effectif</th>\n",
       "    </tr>\n",
       "    <tr>\n",
       "      <th>Classe</th>\n",
       "      <th></th>\n",
       "    </tr>\n",
       "  </thead>\n",
       "  <tbody>\n",
       "    <tr>\n",
       "      <th>0</th>\n",
       "      <td>82</td>\n",
       "    </tr>\n",
       "    <tr>\n",
       "      <th>1</th>\n",
       "      <td>120</td>\n",
       "    </tr>\n",
       "  </tbody>\n",
       "</table>\n",
       "</div>"
      ],
      "text/plain": [
       "        Effectif\n",
       "Classe          \n",
       "0             82\n",
       "1            120"
      ]
     },
     "execution_count": 15,
     "metadata": {},
     "output_type": "execute_result"
    }
   ],
   "source": [
    "pandas.DataFrame(kmeans2.labels_, columns = [\"Classe\"]).assign(Effectif = 1).groupby(\"Classe\").count()"
   ]
  },
  {
   "cell_type": "code",
   "execution_count": 16,
   "metadata": {},
   "outputs": [
    {
     "data": {
      "text/plain": [
       "array([[ 0.83555058,  0.81293581,  0.90273293,  0.87084453,  0.94783308,\n",
       "         0.92581433],\n",
       "       [-0.58660919, -0.63045795, -0.66673415, -0.63807482, -0.70108263,\n",
       "        -0.6995669 ]])"
      ]
     },
     "execution_count": 16,
     "metadata": {},
     "output_type": "execute_result"
    }
   ],
   "source": [
    "kmeans2.cluster_centers_"
   ]
  },
  {
   "cell_type": "markdown",
   "metadata": {},
   "source": [
    "La première classe concerne les pays avec des valeurs positives sur tous les indicateurs, la seconde classe étant ceux avec des valeurs négatives."
   ]
  },
  {
   "cell_type": "code",
   "execution_count": 17,
   "metadata": {},
   "outputs": [
    {
     "data": {
      "text/html": [
       "<div>\n",
       "<style scoped>\n",
       "    .dataframe tbody tr th:only-of-type {\n",
       "        vertical-align: middle;\n",
       "    }\n",
       "\n",
       "    .dataframe tbody tr th {\n",
       "        vertical-align: top;\n",
       "    }\n",
       "\n",
       "    .dataframe thead th {\n",
       "        text-align: right;\n",
       "    }\n",
       "</style>\n",
       "<table border=\"1\" class=\"dataframe\">\n",
       "  <thead>\n",
       "    <tr style=\"text-align: right;\">\n",
       "      <th></th>\n",
       "      <th>Voice and Accountability</th>\n",
       "      <th>Political Stability and Absence of Violence/Terrorism</th>\n",
       "      <th>Government Effectiveness</th>\n",
       "      <th>Regulatory Quality</th>\n",
       "      <th>Rule of Law</th>\n",
       "      <th>Control of Corruption</th>\n",
       "    </tr>\n",
       "    <tr>\n",
       "      <th>Classe</th>\n",
       "      <th></th>\n",
       "      <th></th>\n",
       "      <th></th>\n",
       "      <th></th>\n",
       "      <th></th>\n",
       "      <th></th>\n",
       "    </tr>\n",
       "  </thead>\n",
       "  <tbody>\n",
       "    <tr>\n",
       "      <th>0</th>\n",
       "      <td>0.835551</td>\n",
       "      <td>0.812936</td>\n",
       "      <td>0.902733</td>\n",
       "      <td>0.870845</td>\n",
       "      <td>0.947833</td>\n",
       "      <td>0.925814</td>\n",
       "    </tr>\n",
       "    <tr>\n",
       "      <th>1</th>\n",
       "      <td>-0.586609</td>\n",
       "      <td>-0.630458</td>\n",
       "      <td>-0.666734</td>\n",
       "      <td>-0.638075</td>\n",
       "      <td>-0.701083</td>\n",
       "      <td>-0.699567</td>\n",
       "    </tr>\n",
       "  </tbody>\n",
       "</table>\n",
       "</div>"
      ],
      "text/plain": [
       "        Voice and Accountability  \\\n",
       "Classe                             \n",
       "0                       0.835551   \n",
       "1                      -0.586609   \n",
       "\n",
       "        Political Stability and Absence of Violence/Terrorism  \\\n",
       "Classe                                                          \n",
       "0                                                0.812936       \n",
       "1                                               -0.630458       \n",
       "\n",
       "        Government Effectiveness  Regulatory Quality  Rule of Law  \\\n",
       "Classe                                                              \n",
       "0                       0.902733            0.870845     0.947833   \n",
       "1                      -0.666734           -0.638075    -0.701083   \n",
       "\n",
       "        Control of Corruption  \n",
       "Classe                         \n",
       "0                    0.925814  \n",
       "1                   -0.699567  "
      ]
     },
     "execution_count": 17,
     "metadata": {},
     "output_type": "execute_result"
    }
   ],
   "source": [
    "WGI_num.assign(Classe = kmeans2.labels_).groupby(\"Classe\").mean()"
   ]
  },
  {
   "cell_type": "markdown",
   "metadata": {},
   "source": [
    "On retrouve ici les deux mêmes classes que la méthode CAH avec 2 classes."
   ]
  },
  {
   "cell_type": "code",
   "execution_count": 18,
   "metadata": {
    "scrolled": false
   },
   "outputs": [
    {
     "data": {
      "image/png": "[encoded data removed]",
      "text/plain": [
       "<Figure size 1152x576 with 1 Axes>"
      ]
     },
     "metadata": {
      "needs_background": "light"
     },
     "output_type": "display_data"
    }
   ],
   "source": [
    "plt.figure(figsize = (16, 8))\n",
    "df = pandas.melt(WGI_num.assign(Classe = kmeans2.labels_), id_vars = 'Classe')\n",
    "seaborn.boxplot(data = df, y = \"variable\", x = \"value\", hue = \"Classe\")\n",
    "plt.show()"
   ]
  },
  {
   "cell_type": "markdown",
   "metadata": {},
   "source": [
    "En croisant les deux partitions, on voit bien que ce sont les mêmes, à quelques individus prêts."
   ]
  },
  {
   "cell_type": "code",
   "execution_count": 19,
   "metadata": {},
   "outputs": [
    {
     "data": {
      "text/html": [
       "<div>\n",
       "<style scoped>\n",
       "    .dataframe tbody tr th:only-of-type {\n",
       "        vertical-align: middle;\n",
       "    }\n",
       "\n",
       "    .dataframe tbody tr th {\n",
       "        vertical-align: top;\n",
       "    }\n",
       "\n",
       "    .dataframe thead th {\n",
       "        text-align: right;\n",
       "    }\n",
       "</style>\n",
       "<table border=\"1\" class=\"dataframe\">\n",
       "  <thead>\n",
       "    <tr style=\"text-align: right;\">\n",
       "      <th>col_0</th>\n",
       "      <th>0</th>\n",
       "      <th>1</th>\n",
       "    </tr>\n",
       "    <tr>\n",
       "      <th>row_0</th>\n",
       "      <th></th>\n",
       "      <th></th>\n",
       "    </tr>\n",
       "  </thead>\n",
       "  <tbody>\n",
       "    <tr>\n",
       "      <th>0</th>\n",
       "      <td>9</td>\n",
       "      <td>120</td>\n",
       "    </tr>\n",
       "    <tr>\n",
       "      <th>1</th>\n",
       "      <td>73</td>\n",
       "      <td>0</td>\n",
       "    </tr>\n",
       "  </tbody>\n",
       "</table>\n",
       "</div>"
      ],
      "text/plain": [
       "col_0   0    1\n",
       "row_0         \n",
       "0       9  120\n",
       "1      73    0"
      ]
     },
     "execution_count": 19,
     "metadata": {},
     "output_type": "execute_result"
    }
   ],
   "source": [
    "pandas.crosstab(hac2.labels_, kmeans2.labels_)"
   ]
  },
  {
   "cell_type": "markdown",
   "metadata": {},
   "source": [
    "#### 3 classes"
   ]
  },
  {
   "cell_type": "code",
   "execution_count": 20,
   "metadata": {},
   "outputs": [
    {
     "data": {
      "text/plain": [
       "KMeans(n_clusters=3)"
      ]
     },
     "execution_count": 20,
     "metadata": {},
     "output_type": "execute_result"
    }
   ],
   "source": [
    "kmeans3 = KMeans(n_clusters = 3)\n",
    "kmeans3.fit(WGI_num)"
   ]
  },
  {
   "cell_type": "markdown",
   "metadata": {},
   "source": [
    "La plus grande classe semble être coupée en 2."
   ]
  },
  {
   "cell_type": "code",
   "execution_count": 21,
   "metadata": {
    "scrolled": true
   },
   "outputs": [
    {
     "data": {
      "text/html": [
       "<div>\n",
       "<style scoped>\n",
       "    .dataframe tbody tr th:only-of-type {\n",
       "        vertical-align: middle;\n",
       "    }\n",
       "\n",
       "    .dataframe tbody tr th {\n",
       "        vertical-align: top;\n",
       "    }\n",
       "\n",
       "    .dataframe thead th {\n",
       "        text-align: right;\n",
       "    }\n",
       "</style>\n",
       "<table border=\"1\" class=\"dataframe\">\n",
       "  <thead>\n",
       "    <tr style=\"text-align: right;\">\n",
       "      <th></th>\n",
       "      <th>Effectif</th>\n",
       "    </tr>\n",
       "    <tr>\n",
       "      <th>Classe</th>\n",
       "      <th></th>\n",
       "    </tr>\n",
       "  </thead>\n",
       "  <tbody>\n",
       "    <tr>\n",
       "      <th>0</th>\n",
       "      <td>66</td>\n",
       "    </tr>\n",
       "    <tr>\n",
       "      <th>1</th>\n",
       "      <td>49</td>\n",
       "    </tr>\n",
       "    <tr>\n",
       "      <th>2</th>\n",
       "      <td>87</td>\n",
       "    </tr>\n",
       "  </tbody>\n",
       "</table>\n",
       "</div>"
      ],
      "text/plain": [
       "        Effectif\n",
       "Classe          \n",
       "0             66\n",
       "1             49\n",
       "2             87"
      ]
     },
     "execution_count": 21,
     "metadata": {},
     "output_type": "execute_result"
    }
   ],
   "source": [
    "pandas.DataFrame(kmeans3.labels_, columns = [\"Classe\"]).assign(Effectif = 1).groupby(\"Classe\").count()"
   ]
  },
  {
   "cell_type": "markdown",
   "metadata": {},
   "source": [
    "On retrouve les 3 mêmes classes que pour la CAH :\n",
    "\n",
    "- une présente des valeurs très positives ;\n",
    "- une autre semble être la classe des pays avec des valeurs proches de zéro ;\n",
    "- une dernère avec des valeurs très faibles."
   ]
  },
  {
   "cell_type": "code",
   "execution_count": 22,
   "metadata": {},
   "outputs": [
    {
     "data": {
      "text/html": [
       "<div>\n",
       "<style scoped>\n",
       "    .dataframe tbody tr th:only-of-type {\n",
       "        vertical-align: middle;\n",
       "    }\n",
       "\n",
       "    .dataframe tbody tr th {\n",
       "        vertical-align: top;\n",
       "    }\n",
       "\n",
       "    .dataframe thead th {\n",
       "        text-align: right;\n",
       "    }\n",
       "</style>\n",
       "<table border=\"1\" class=\"dataframe\">\n",
       "  <thead>\n",
       "    <tr style=\"text-align: right;\">\n",
       "      <th></th>\n",
       "      <th>Voice and Accountability</th>\n",
       "      <th>Political Stability and Absence of Violence/Terrorism</th>\n",
       "      <th>Government Effectiveness</th>\n",
       "      <th>Regulatory Quality</th>\n",
       "      <th>Rule of Law</th>\n",
       "      <th>Control of Corruption</th>\n",
       "    </tr>\n",
       "    <tr>\n",
       "      <th>Classe</th>\n",
       "      <th></th>\n",
       "      <th></th>\n",
       "      <th></th>\n",
       "      <th></th>\n",
       "      <th></th>\n",
       "      <th></th>\n",
       "    </tr>\n",
       "  </thead>\n",
       "  <tbody>\n",
       "    <tr>\n",
       "      <th>0</th>\n",
       "      <td>-0.992739</td>\n",
       "      <td>-1.075007</td>\n",
       "      <td>-1.030913</td>\n",
       "      <td>-0.981857</td>\n",
       "      <td>-1.049120</td>\n",
       "      <td>-1.033342</td>\n",
       "    </tr>\n",
       "    <tr>\n",
       "      <th>1</th>\n",
       "      <td>1.020859</td>\n",
       "      <td>0.889478</td>\n",
       "      <td>1.344081</td>\n",
       "      <td>1.338705</td>\n",
       "      <td>1.327762</td>\n",
       "      <td>1.272946</td>\n",
       "    </tr>\n",
       "    <tr>\n",
       "      <th>2</th>\n",
       "      <td>0.156560</td>\n",
       "      <td>0.211170</td>\n",
       "      <td>-0.043721</td>\n",
       "      <td>-0.068433</td>\n",
       "      <td>-0.025587</td>\n",
       "      <td>-0.025345</td>\n",
       "    </tr>\n",
       "  </tbody>\n",
       "</table>\n",
       "</div>"
      ],
      "text/plain": [
       "        Voice and Accountability  \\\n",
       "Classe                             \n",
       "0                      -0.992739   \n",
       "1                       1.020859   \n",
       "2                       0.156560   \n",
       "\n",
       "        Political Stability and Absence of Violence/Terrorism  \\\n",
       "Classe                                                          \n",
       "0                                               -1.075007       \n",
       "1                                                0.889478       \n",
       "2                                                0.211170       \n",
       "\n",
       "        Government Effectiveness  Regulatory Quality  Rule of Law  \\\n",
       "Classe                                                              \n",
       "0                      -1.030913           -0.981857    -1.049120   \n",
       "1                       1.344081            1.338705     1.327762   \n",
       "2                      -0.043721           -0.068433    -0.025587   \n",
       "\n",
       "        Control of Corruption  \n",
       "Classe                         \n",
       "0                   -1.033342  \n",
       "1                    1.272946  \n",
       "2                   -0.025345  "
      ]
     },
     "execution_count": 22,
     "metadata": {},
     "output_type": "execute_result"
    }
   ],
   "source": [
    "WGI_num.assign(Classe = kmeans3.labels_).groupby(\"Classe\").mean()"
   ]
  },
  {
   "cell_type": "code",
   "execution_count": 23,
   "metadata": {
    "scrolled": false
   },
   "outputs": [
    {
     "data": {
      "image/png": "[encoded data removed]",
      "text/plain": [
       "<Figure size 1152x576 with 1 Axes>"
      ]
     },
     "metadata": {
      "needs_background": "light"
     },
     "output_type": "display_data"
    }
   ],
   "source": [
    "plt.figure(figsize = (16, 8))\n",
    "df = pandas.melt(WGI_num.assign(Classe = kmeans3.labels_), id_vars = 'Classe')\n",
    "seaborn.boxplot(data = df, y = \"variable\", x = \"value\", hue = \"Classe\")\n",
    "plt.show()"
   ]
  },
  {
   "cell_type": "markdown",
   "metadata": {},
   "source": [
    "En croisant les deux partitions à 3 classes (CAH et $k$-means), on voit qu'on retrouve les mêmes."
   ]
  },
  {
   "cell_type": "code",
   "execution_count": 24,
   "metadata": {},
   "outputs": [
    {
     "data": {
      "text/html": [
       "<div>\n",
       "<style scoped>\n",
       "    .dataframe tbody tr th:only-of-type {\n",
       "        vertical-align: middle;\n",
       "    }\n",
       "\n",
       "    .dataframe tbody tr th {\n",
       "        vertical-align: top;\n",
       "    }\n",
       "\n",
       "    .dataframe thead th {\n",
       "        text-align: right;\n",
       "    }\n",
       "</style>\n",
       "<table border=\"1\" class=\"dataframe\">\n",
       "  <thead>\n",
       "    <tr style=\"text-align: right;\">\n",
       "      <th>col_0</th>\n",
       "      <th>0</th>\n",
       "      <th>1</th>\n",
       "      <th>2</th>\n",
       "    </tr>\n",
       "    <tr>\n",
       "      <th>row_0</th>\n",
       "      <th></th>\n",
       "      <th></th>\n",
       "      <th></th>\n",
       "    </tr>\n",
       "  </thead>\n",
       "  <tbody>\n",
       "    <tr>\n",
       "      <th>0</th>\n",
       "      <td>0</td>\n",
       "      <td>49</td>\n",
       "      <td>24</td>\n",
       "    </tr>\n",
       "    <tr>\n",
       "      <th>1</th>\n",
       "      <td>64</td>\n",
       "      <td>0</td>\n",
       "      <td>2</td>\n",
       "    </tr>\n",
       "    <tr>\n",
       "      <th>2</th>\n",
       "      <td>2</td>\n",
       "      <td>0</td>\n",
       "      <td>61</td>\n",
       "    </tr>\n",
       "  </tbody>\n",
       "</table>\n",
       "</div>"
      ],
      "text/plain": [
       "col_0   0   1   2\n",
       "row_0            \n",
       "0       0  49  24\n",
       "1      64   0   2\n",
       "2       2   0  61"
      ]
     },
     "execution_count": 24,
     "metadata": {},
     "output_type": "execute_result"
    }
   ],
   "source": [
    "pandas.crosstab(hac3.labels_, kmeans3.labels_)"
   ]
  },
  {
   "cell_type": "markdown",
   "metadata": {},
   "source": [
    "### Choix du nombre de classes avec $k$-means\n",
    "\n",
    "L'algorithme $k$-means nous permet d'avoir à la fin l'inertie intra-classes, qui représente la disparité des individus à l'intérieur des classes. Plus cette valeur est proche de 0, meilleur est la partition. Malheureusement, la meilleure partition selon ce critère est donc celle avec autant de classes que d'individus (ce qui n'est pas très utile...).\n",
    "\n",
    "On va donc chercher un point d'inflexion dans la courbe d'évolution de ce critère. Voici comment faire pour avoir ce graphique. Et ici, le point le plus marquant est celui à 2 classes. Ensuite, celui à 3 classes peut montrer aussi une certaine cassure dans l'évolution du critère."
   ]
  },
  {
   "cell_type": "code",
   "execution_count": 25,
   "metadata": {},
   "outputs": [
    {
     "data": {
      "image/png": "[encoded data removed]",
      "text/plain": [
       "<Figure size 1152x432 with 1 Axes>"
      ]
     },
     "metadata": {
      "needs_background": "light"
     },
     "output_type": "display_data"
    }
   ],
   "source": [
    "plt.figure(figsize = (16, 6))\n",
    "inertia = []\n",
    "for k in range(1, 11):\n",
    "    kmeans = KMeans(n_clusters = k, init = \"random\", n_init = 20).fit(WGI_num)\n",
    "    inertia = inertia + [kmeans.inertia_]\n",
    "inertia = pandas.DataFrame({\"k\": range(1, 11), \"inertia\": inertia})\n",
    "seaborn.lineplot(data = inertia, x = \"k\", y = \"inertia\")\n",
    "plt.scatter(2, inertia.query('k == 2')[\"inertia\"], c = \"red\")\n",
    "plt.scatter(3, inertia.query('k == 3')[\"inertia\"], c = \"red\")\n",
    "plt.show()"
   ]
  },
  {
   "cell_type": "markdown",
   "metadata": {},
   "source": [
    "## A faire\n",
    "\n",
    "### Températures mondiales (anomalies)\n",
    "\n",
    "Nous continuons de travailler ici sur les données de température mondiale HadCRUT4, fournies par [Climate Research Unit](https://crudata.uea.ac.uk/). \n",
    "\n",
    "Pour rappel, voici le code pour l'importer avec la nouvelle version."
   ]
  },
  {
   "cell_type": "code",
   "execution_count": 26,
   "metadata": {
    "scrolled": true
   },
   "outputs": [
    {
     "data": {
      "text/html": [
       "<div>\n",
       "<style scoped>\n",
       "    .dataframe tbody tr th:only-of-type {\n",
       "        vertical-align: middle;\n",
       "    }\n",
       "\n",
       "    .dataframe tbody tr th {\n",
       "        vertical-align: top;\n",
       "    }\n",
       "\n",
       "    .dataframe thead th {\n",
       "        text-align: right;\n",
       "    }\n",
       "</style>\n",
       "<table border=\"1\" class=\"dataframe\">\n",
       "  <thead>\n",
       "    <tr style=\"text-align: right;\">\n",
       "      <th></th>\n",
       "      <th>Year</th>\n",
       "      <th>Jan</th>\n",
       "      <th>Feb</th>\n",
       "      <th>Mar</th>\n",
       "      <th>Apr</th>\n",
       "      <th>May</th>\n",
       "      <th>Jun</th>\n",
       "      <th>Jul</th>\n",
       "      <th>Aug</th>\n",
       "      <th>Sep</th>\n",
       "      <th>Oct</th>\n",
       "      <th>Nov</th>\n",
       "      <th>Dec</th>\n",
       "      <th>Annual</th>\n",
       "    </tr>\n",
       "  </thead>\n",
       "  <tbody>\n",
       "    <tr>\n",
       "      <th>167</th>\n",
       "      <td>2017.0</td>\n",
       "      <td>0.952</td>\n",
       "      <td>1.067</td>\n",
       "      <td>1.065</td>\n",
       "      <td>0.846</td>\n",
       "      <td>0.780</td>\n",
       "      <td>0.658</td>\n",
       "      <td>0.805</td>\n",
       "      <td>0.811</td>\n",
       "      <td>0.729</td>\n",
       "      <td>0.809</td>\n",
       "      <td>0.806</td>\n",
       "      <td>0.815</td>\n",
       "      <td>0.845</td>\n",
       "    </tr>\n",
       "    <tr>\n",
       "      <th>168</th>\n",
       "      <td>2018.0</td>\n",
       "      <td>0.711</td>\n",
       "      <td>0.796</td>\n",
       "      <td>0.790</td>\n",
       "      <td>0.822</td>\n",
       "      <td>0.713</td>\n",
       "      <td>0.738</td>\n",
       "      <td>0.733</td>\n",
       "      <td>0.735</td>\n",
       "      <td>0.676</td>\n",
       "      <td>0.869</td>\n",
       "      <td>0.745</td>\n",
       "      <td>0.824</td>\n",
       "      <td>0.763</td>\n",
       "    </tr>\n",
       "    <tr>\n",
       "      <th>169</th>\n",
       "      <td>2019.0</td>\n",
       "      <td>0.800</td>\n",
       "      <td>0.844</td>\n",
       "      <td>1.076</td>\n",
       "      <td>0.939</td>\n",
       "      <td>0.778</td>\n",
       "      <td>0.809</td>\n",
       "      <td>0.857</td>\n",
       "      <td>0.858</td>\n",
       "      <td>0.803</td>\n",
       "      <td>0.956</td>\n",
       "      <td>0.937</td>\n",
       "      <td>1.037</td>\n",
       "      <td>0.891</td>\n",
       "    </tr>\n",
       "    <tr>\n",
       "      <th>170</th>\n",
       "      <td>2020.0</td>\n",
       "      <td>1.069</td>\n",
       "      <td>1.113</td>\n",
       "      <td>1.094</td>\n",
       "      <td>1.063</td>\n",
       "      <td>0.908</td>\n",
       "      <td>0.825</td>\n",
       "      <td>0.816</td>\n",
       "      <td>0.801</td>\n",
       "      <td>0.867</td>\n",
       "      <td>0.811</td>\n",
       "      <td>1.013</td>\n",
       "      <td>0.693</td>\n",
       "      <td>0.923</td>\n",
       "    </tr>\n",
       "    <tr>\n",
       "      <th>171</th>\n",
       "      <td>2021.0</td>\n",
       "      <td>0.701</td>\n",
       "      <td>0.565</td>\n",
       "      <td>0.726</td>\n",
       "      <td>0.760</td>\n",
       "      <td>0.706</td>\n",
       "      <td>0.713</td>\n",
       "      <td>0.792</td>\n",
       "      <td>0.799</td>\n",
       "      <td>0.867</td>\n",
       "      <td>0.907</td>\n",
       "      <td>0.854</td>\n",
       "      <td>0.751</td>\n",
       "      <td>0.762</td>\n",
       "    </tr>\n",
       "  </tbody>\n",
       "</table>\n",
       "</div>"
      ],
      "text/plain": [
       "       Year    Jan    Feb    Mar    Apr    May    Jun    Jul    Aug    Sep  \\\n",
       "167  2017.0  0.952  1.067  1.065  0.846  0.780  0.658  0.805  0.811  0.729   \n",
       "168  2018.0  0.711  0.796  0.790  0.822  0.713  0.738  0.733  0.735  0.676   \n",
       "169  2019.0  0.800  0.844  1.076  0.939  0.778  0.809  0.857  0.858  0.803   \n",
       "170  2020.0  1.069  1.113  1.094  1.063  0.908  0.825  0.816  0.801  0.867   \n",
       "171  2021.0  0.701  0.565  0.726  0.760  0.706  0.713  0.792  0.799  0.867   \n",
       "\n",
       "       Oct    Nov    Dec  Annual  \n",
       "167  0.809  0.806  0.815   0.845  \n",
       "168  0.869  0.745  0.824   0.763  \n",
       "169  0.956  0.937  1.037   0.891  \n",
       "170  0.811  1.013  0.693   0.923  \n",
       "171  0.907  0.854  0.751   0.762  "
      ]
     },
     "execution_count": 26,
     "metadata": {},
     "output_type": "execute_result"
    }
   ],
   "source": [
    "had = pandas.read_csv(\"https://crudata.uea.ac.uk/cru/data/temperature/HadCRUT5.0Analysis_gl.txt\", header=None)\n",
    "donnees = pandas.DataFrame(\n",
    "    [list(map(lambda v: float(v), filter(lambda v: v!= \"\", h.split(\" \")))) for h in had[0][::2]],\n",
    "    columns = [\"Year\", \"Jan\", \"Feb\", \"Mar\", \"Apr\", \"May\", \"Jun\", \"Jul\", \"Aug\", \"Sep\", \"Oct\", \"Nov\", \"Dec\", \"Annual\"]\n",
    ").query(\"Year < 2022\")\n",
    "donnees.tail()"
   ]
  },
  {
   "cell_type": "markdown",
   "metadata": {},
   "source": [
    "Vous devez donc réaliser les étapes suivantes, au propre dans un notebook :\n",
    "\n",
    "- Rechercher une partition intéressante des années\n",
    "- Représenter cette partition sur le résultat de l'ACP\n",
    "- Décrire les classes ainsi obtenues\n",
    "\n",
    "Que peut-on dire globalement ?\n"
   ]
  },
  {
   "cell_type": "code",
   "execution_count": null,
   "metadata": {},
   "outputs": [],
   "source": []
  }
 ],
 "metadata": {
  "kernelspec": {
   "display_name": "Python 3",
   "language": "python",
   "name": "python3"
  },
  "language_info": {
   "codemirror_mode": {
    "name": "ipython",
    "version": 3
   },
   "file_extension": ".py",
   "mimetype": "text/x-python",
   "name": "python",
   "nbconvert_exporter": "python",
   "pygments_lexer": "ipython3",
   "version": "3.9.9"
  }
 },
 "nbformat": 4,
 "nbformat_minor": 2
}
