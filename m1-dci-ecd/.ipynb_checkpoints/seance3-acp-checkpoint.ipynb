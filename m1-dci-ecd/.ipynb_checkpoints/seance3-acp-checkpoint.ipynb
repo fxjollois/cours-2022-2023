{
 "cells": [
  {
   "cell_type": "markdown",
   "metadata": {
    "slideshow": {
     "rise": {
      "theme": "black"
     },
     "slide_type": "slide"
    }
   },
   "source": [
    "# Extraction de connaissances à partir de données structurées et non structurées\n",
    "\n",
    "## Analyse en Composantes Principales (ACP)"
   ]
  },
  {
   "cell_type": "markdown",
   "metadata": {
    "slideshow": {
     "slide_type": "slide"
    }
   },
   "source": [
    "## Que veut-on faire ?\n",
    "\n",
    "- Décrire et/ou résumer l'information contenue dans les données\n",
    "- Sans formuler d'hypothèses au préalable\n",
    "- Technique efficace de réduction de dimension\n",
    "- Méthode de visualisation des données très pertinente\n",
    "- Méthode de décorrélation des variables, utile pour certaines méthodes statistiques."
   ]
  },
  {
   "cell_type": "markdown",
   "metadata": {
    "slideshow": {
     "slide_type": "fragment"
    }
   },
   "source": [
    "**Comment ?**\n",
    "\n",
    "- Transformations linéaires d'un grand nombre de variables intercorrélées\n",
    "- Nombre relativement limité de composantes non corrélées\n",
    "- Regroupant les données en des ensembles plus petits\n",
    "- Permettant d'éliminer les problèmes de multicolinéarité entre les variables."
   ]
  },
  {
   "cell_type": "markdown",
   "metadata": {
    "slideshow": {
     "slide_type": "slide"
    }
   },
   "source": [
    "## Du choix de la projection dépend l'analyse\n",
    "\n",
    "![Source : <https://commons.wikimedia.org/wiki/File:Dualite.jpg>](https://upload.wikimedia.org/wikipedia/commons/6/64/Dualite.jpg)"
   ]
  },
  {
   "cell_type": "markdown",
   "metadata": {
    "slideshow": {
     "slide_type": "slide"
    }
   },
   "source": [
    "## Méthodes descriptives\n",
    "\n",
    "- Pas de modèle probabiliste, mais elles dépendent d'un modèle géométrique\n",
    "- Représentations géométriques de ces unités et de ces variables\n",
    "- Représentations des individus permettent de voir s'il existe une structure, non connue a priori\n",
    "- Représentations des variables permettent d'étudier les structures de liaisons linéaires"
   ]
  },
  {
   "cell_type": "markdown",
   "metadata": {
    "slideshow": {
     "slide_type": "fragment"
    }
   },
   "source": [
    "**Lecture**\n",
    "\n",
    "- Distinguer des groupes dans l'ensemble des individus en regardant quelles sont les individus qui se ressemblent, celles qui se distinguent des autres, etc...\n",
    "- Pour les variables, on cherchera quelles sont celles qui sont très corrélées entre elles, celles qui, au contraire ne sont pas corrélées aux autres, ..."
   ]
  },
  {
   "cell_type": "markdown",
   "metadata": {
    "slideshow": {
     "slide_type": "fragment"
    }
   },
   "source": [
    "**Idée principale** : Projeter le nuage dans un sous-espace de dimension inférieure"
   ]
  },
  {
   "cell_type": "markdown",
   "metadata": {
    "slideshow": {
     "slide_type": "slide"
    }
   },
   "source": [
    "## Exemple en 2D\n",
    "\n",
    "#### Repère $(0,X^{(1)},X^{(2)})$\n",
    "\n",
    "![Repère d'origine](https://fxjollois.github.io/cours-2016-2017/analyse-donnees/points_plan_init.png)"
   ]
  },
  {
   "cell_type": "markdown",
   "metadata": {
    "slideshow": {
     "slide_type": "slide"
    }
   },
   "source": [
    "#### Repère factoriel $(g,F^{(1)},F^{(2)})$ : axe 1 associé à la plus grande valeur propre, axe 2 associé à la plus petite. \n",
    "\n",
    "![Repère factoriel](https://fxjollois.github.io/cours-2016-2017/analyse-donnees/points_planfact2.png)"
   ]
  },
  {
   "cell_type": "markdown",
   "metadata": {
    "slideshow": {
     "slide_type": "slide"
    }
   },
   "source": [
    "#### Rotation du repère...\n",
    "\n",
    "![Repère factoriel rotation](https://fxjollois.github.io/cours-2016-2017/analyse-donnees/points_planfact.png)"
   ]
  },
  {
   "cell_type": "markdown",
   "metadata": {
    "slideshow": {
     "slide_type": "slide"
    }
   },
   "source": [
    "#### ... et changement d'échelle.\n",
    "\n",
    "![Repère factoriel échelle](https://fxjollois.github.io/cours-2016-2017/analyse-donnees/points_planfact_final.png)"
   ]
  },
  {
   "cell_type": "markdown",
   "metadata": {
    "slideshow": {
     "slide_type": "slide"
    }
   },
   "source": [
    "## Problème\n",
    "\n",
    "- Etudier simultanément $p$ variables ($p$ grand)\n",
    "- A l'aide d'informations sur $n$ individus ($n$ encore plus grand)\n",
    "\n",
    "### Détection\n",
    "\n",
    "- d'individus atypiques\n",
    "- de liaisons entre variables\n",
    "- Recherche de \"bonnes\" variables\n",
    "\n",
    "### Représentation graphique\n",
    "\n",
    "- des variables\n",
    "- des individus"
   ]
  },
  {
   "cell_type": "markdown",
   "metadata": {
    "slideshow": {
     "slide_type": "slide"
    }
   },
   "source": [
    "## Objectifs\n",
    "\n",
    "- Constructions de nouvelles variables (appelées facteurs)\n",
    "    - Concentrant la variance du nuage de points\n",
    "    - Sur un petit nombre $q$ de facteurs\n",
    "- Représentation graphiques des variables\n",
    "    - Dans un sous-espace de faible dimension ($q=2$ ou $q=3$)\n",
    "    - Explicitant les liaisons initiales entre variables\n",
    "- Représentation graphiques des individus\n",
    "    - Minimisant les déformations du nuage de points\n",
    "    - Dans un sous-espace de dimension $q$ ($q<p$)\n",
    "- Réduction de la dimension (compression)\n",
    "    - Approximation de $X$ par un tableau de ranq $q$\n",
    "    - $q << p$"
   ]
  },
  {
   "cell_type": "markdown",
   "metadata": {
    "slideshow": {
     "slide_type": "slide"
    }
   },
   "source": [
    "## Principe\n",
    "\n",
    "- Facteurs principaux : combinaisons linéaires non corrélées 2 à 2 des variables initiales\n",
    "- 1ère composante principale\n",
    "    - Combinaison linéaire des variables qui explique le mieux la variabilité de l'échantillon\n",
    "    - Géométriquement, déterminée par la direction de l'allongement maximum du nuage de points\n",
    "- 2ème composante principale\n",
    "    - Combinaison linéaire des variables expliquant au mieux la variance résiduelle\n",
    "    - Direction orthogonale à la précédente\n",
    "- Itération de l'étape précédente"
   ]
  },
  {
   "cell_type": "markdown",
   "metadata": {
    "slideshow": {
     "slide_type": "slide"
    }
   },
   "source": [
    "## Matrice de corrélation ou de covariance ?\n",
    "\n",
    "### Corrélation \n",
    "\n",
    "- Les variables sont réduites (donc sans unité) et de même dispersion (écart-type 1)\n",
    "- Le choix par défaut le plus fréquent (données en général hétérogènes)\n",
    "- Diagonalisation de la matrice des corrélations\n",
    "\n",
    "### Covariance\n",
    "\n",
    "- Les variables sont uniquement centrées\n",
    "- ont des unités et des dispersions différentes\n",
    "- A n'utiliser que si les données sont homogènes\n",
    "- Diagonalisation de la matrice des covariances"
   ]
  },
  {
   "cell_type": "markdown",
   "metadata": {
    "slideshow": {
     "slide_type": "slide"
    }
   },
   "source": [
    "## Combien d'axes retenir ?\n",
    "\n",
    "- Question délicate, sans réponse définitive\n",
    "- Critère empirique : point d'inflexion sur les spectres des valeurs propres\n",
    "\n",
    "### But = Représentation graphique\n",
    "\n",
    "- Conserver l'essentiel de la variabilité tout en retenant un faible nombre de facteurs\n",
    "- Représenter sur 2 axes (éventuellement 3, voire 4 maximum)\n",
    "\n",
    "### But = Préparation des données\n",
    "    \n",
    "- Préalablement à la réalisation d'une classification\n",
    "- Pas un inconvénient de retenir beaucoup d'axes\t\n",
    "- Supprimer les directions correspondant aux plus petites valeurs propres \n",
    "    - Critère de Kaiser : vp $>$ moyenne des vp\n",
    "    - si ACP normée, vp $>$ 1\n",
    "    - Supprimer le bruit"
   ]
  },
  {
   "cell_type": "markdown",
   "metadata": {
    "slideshow": {
     "slide_type": "slide"
    }
   },
   "source": [
    "## Quelques notations\n",
    "\n",
    "- $\\mathbf{I}_p$ : matrice identité (diagonale = 1 et le reste = 0), $\\mathbf{1}_n$ : vecteur unité (que des 1)\n",
    "- $\\mathbf{X} = (x_i^j), i=1,\\ldots,n, j=1,\\ldots,p$ : matrice des données\n",
    "- $\\mathbf{x}_i = (x_i^1,\\ldots,x_i^p)$ : vecteur individu $i$\n",
    "- $\\mathbf{x}^j = (x_1^j,\\ldots,x_n^j)$ : vecteur variable $j$\n",
    "- $p_i, i=1,\\ldots,n$ : poids des individus (très souvent égaux à $\\frac{1}{n}$)\n",
    "    - représentés dans la matrice $\\mathbf{D}$ (poids sur la diagonale et le reste égal à 0)\n",
    "    - si poids identiques, $\\mathbf{D} = \\frac{1}{n}\\mathbf{I}_p$\n",
    "- $\\mathbf{M}$ : métrique utilisée\n",
    "    - $\\mathbf{I}_p$ : si ACP centrée uniquement\n",
    "    - $\\mathbf{D}_\\frac{1}{\\delta}$ : si ACP centrée réduite (avec $(\\frac{1}{\\delta_j})$ sur la diagonale (écart-type de $j$))\n",
    "    - $\\mathbf{M}'$ : transposée de $\\mathbf{M}$"
   ]
  },
  {
   "cell_type": "markdown",
   "metadata": {
    "slideshow": {
     "slide_type": "slide"
    }
   },
   "source": [
    "## Premiers calculs \n",
    "\n",
    "Utilisation de moyenne arithmétique (pondérée éventuellement), de la variance (elle-aussi pondérée), et de la covariance et de la corrélation entre deux variables\n",
    "\n",
    "- $\\mathbf{g} = (\\bar{x}^1,\\ldots,\\bar{x}^p)$ : point moyen (barycentre), on a $\\mathbf{g} = \\mathbf{X}'\\mathbf{D}\\mathbf{1}_n$\n",
    "- Tableau centré $\\mathbf{Y} = \\mathbf{X}-\\mathbf{1}_n\\mathbf{g} = (\\mathbf{I}_p - \\mathbf{1}_n\\mathbf{1}_n'\\mathbf{D})\\mathbf{X}$\n",
    "- Matrice de variance-covariance $\\mathbf{V} = \\mathbf{X}'\\mathbf{D}\\mathbf{X} - \\mathbf{g}\\mathbf{g}' = \\mathbf{Y}'\\mathbf{D}\\mathbf{Y}$\n",
    "- Matrice de corrélation $\\mathbf{R} = \\mathbf{D_\\frac{1}{s}}\\mathbf{V}\\mathbf{D_\\frac{1}{s}}$ \n",
    "- Données centrées-réduites $\\mathbf{Z} = \\mathbf{Y}\\mathbf{D}_\\frac{1}{s}$"
   ]
  },
  {
   "cell_type": "markdown",
   "metadata": {
    "slideshow": {
     "slide_type": "slide"
    }
   },
   "source": [
    "## Inertie\n",
    "\n",
    "Inertie d'un nuage de points :\n",
    "\n",
    "$$ \n",
    "\tI_g = \\sum_{i=1}^n p_i d_\\mathbf{M}^2(x_i - g) = \\frac{1}{2} \\sum_{i=1}^n \\sum_{i'=1}^n p_i p_{i'} d_\\mathbf{M}^2(x_i - x_{i'}) = Tr(\\mathbf{M}\\mathbf{V}\\mathbf{M})\n",
    "$$\n",
    "\n",
    "- Si classique ($\\mathbf{Y}$) : $I_g = Tr(\\mathbf{V}) = \\sum_{j=1}^p \\delta_j^2$.\n",
    "- Si données réduites ($\\mathbf{Z}$) : $I_g = Tr(\\mathbf{D}_\\frac{1}{\\delta^2}\\mathbf{V}) = Tr(\\mathbf{D}_\\frac{1}{\\delta}\\mathbf{V}\\mathbf{D}_\\frac{1}{\\delta}) = Tr(\\mathbf{R}) = p$\n",
    "\n",
    "L'ACP revient à chercher $F_k$, sous espace de dimension $k$ de $F_p$, tel que l'inertie du nuage projeté sur $F_k$ soit maximale."
   ]
  },
  {
   "cell_type": "markdown",
   "metadata": {
    "slideshow": {
     "slide_type": "slide"
    }
   },
   "source": [
    "## Rappel : Vecteur et valeur propre\n",
    "\n",
    "$\\mathbf{v} \\ne 0$ vecteur propre de $\\mathbf{A}$ \n",
    "\n",
    "- s'il existe $\\lambda$ tel que $\\mathbf{A}\\mathbf{v} = \\lambda\\mathbf{v}$\n",
    "- $\\lambda$ valeur propre associée à $\\mathbf{v}$\n",
    "\n",
    "Matrice de dimension $(p,p)$ : $p$ valeurs propres"
   ]
  },
  {
   "cell_type": "markdown",
   "metadata": {
    "slideshow": {
     "slide_type": "slide"
    }
   },
   "source": [
    "## Analyse de $\\mathbf{M}\\mathbf{V}\\mathbf{M}$\n",
    "\n",
    "Matrice carrée $(p,p)$ :\n",
    "\n",
    "- Diagonalisable \n",
    "- Valeurs propres $\\lambda_1,\\ldots,\\lambda_p$ réelles\n",
    "- Axes principaux d'inertie : $p$ vecteurs propres (notés $\\mathbf{a}_k$)\n",
    "- Valeurs propres positives : tri par ordre décroissant \n",
    "\n",
    "Lien avec l'inertie : $I_g = Tr(\\mathbf{M}\\mathbf{V}\\mathbf{M}) = \\sum_{j=1}^p \\lambda_j$\n",
    "\n",
    "En ne gardant que les $q$ premiers axes d'inertie\n",
    "\n",
    "- Inertie expliquée : $\\sum_{j=1}^q \\lambda_j$\n",
    "\n",
    "Remarque : l'ACP sur $k+1$ variables est obtenue par ajout d'une variable d'inertie maximale à l'ACP sur $k$ variables. Il n'est pas nécessaire de refaire tout le calcul."
   ]
  },
  {
   "cell_type": "markdown",
   "metadata": {
    "slideshow": {
     "slide_type": "slide"
    }
   },
   "source": [
    "## Composantes Principales\n",
    "\n",
    "Coordonnées des individus données par projections orthogonales sur axes principaux\n",
    "\n",
    "- Composantes principales $\\mathbf{c}_k$ (qui correspondent aux coordonnées des individus sur l'axe $k$) :\n",
    "\n",
    "$$\n",
    "\t\\mathbf{c}_k = \\mathbf{Y} \\mathbf{M} \\mathbf{a}_k\n",
    "$$\n",
    "\n",
    "- Axe $k$ expliquant une certaine part d'inertie, déterminée par $\\frac{\\lambda_k}{I_g}$\n",
    "\n",
    "\n",
    "ACP avec $q$ axes retenus expliquera donc une part d'inertie égale à \n",
    "\n",
    "$$\n",
    "\t\\frac{\\sum_{j=1}^q \\lambda_j}{\\sum_{j=1}^p \\lambda_j}\n",
    "$$"
   ]
  },
  {
   "cell_type": "markdown",
   "metadata": {
    "slideshow": {
     "slide_type": "slide"
    }
   },
   "source": [
    "## Interprétation\n",
    "\n",
    "### Cercle des corrélations \n",
    "\n",
    "Sur des données centrées-réduites, il est possible de déterminer le cercle des corrélations, représentation des corrélations entre les variables et les composantes principales. Plus la variable sera proche de 1 ou -1 sur une composante, plus celles-ci seront corrélées.\n",
    "\n",
    "### Contribution des individus et des variables\n",
    "\n",
    "La contribution d'un individu à un axe est égale à $\\frac{p_i (c_{ik})^2}{\\lambda_k}$. Si celle-ci est supérieure à $\\alpha p_i$ ($\\alpha$ étant généralement choisi entre 2 et 4), l'individu seront considéré comme fortement contributeur à la création de l'axe. Mais si elle est très forte, il faudra peut-être considéré l'individu comme aberrant et donc envisager de le mettre de côté pour l'analyse. De manière duale, la contribution d'une variable à un axe est égale à $\\frac{\\sqrt{\\lambda_k}a_k^j}{s_j}$. Si elle est supérieure à $\\frac{1}{p}$, alors la variable sera considérée comme fortement contribuante."
   ]
  },
  {
   "cell_type": "markdown",
   "metadata": {
    "slideshow": {
     "slide_type": "slide"
    }
   },
   "source": [
    "## Interprétation\n",
    "\n",
    "### Qualité de représentation\n",
    "\n",
    "La qualité de représentation d'un individu par un axe est égale é $\\frac{(c_{ik})^2}{\\sum_{\\ell=1}^p (c_{i\\ell})^2}$. Plus elle est grande\n",
    "mieux l'individu est représenté sur l'axe $k$. De manière duale, la qualité de représentation d'une variable par un axe est égale à $\\frac{\\lambda_k (a_k^j)^2}{\\sum_{\\ell=1}^p \\lambda_\\ell (a_\\ell^j)^2}$. Idem que pour les individus, plus cette valeur est grande et plus la variable est bien représentée sur l'axe $k$.\n",
    "\n",
    "### Que faire pour interpréter un axe\n",
    "\n",
    "Pour comprendre ce que reprèsente un axe, il est nécessaire de recenser les variables qui contribuent le plus, ainsi que celles qui sont très bien représentées. Une fois cette étape réalisée, il est possible (si $n$ n'est pas très grand) de chercher les individus bien représentés ou contribuant fortement à l'axe."
   ]
  },
  {
   "cell_type": "markdown",
   "metadata": {
    "slideshow": {
     "slide_type": "slide"
    }
   },
   "source": [
    "## En plus\n",
    "\n",
    "Il est aussi possible d'introduire des éléments supplémentaires ne participant pas au calcul, mais pouvant être représentés sur les graphiques :\n",
    "\n",
    "- Variables quantitatives : utile pour expliquer le lien de ces variables avec les variables de l'ACP \n",
    "- Variables qualitatives : idem\n",
    "- Individus : utile pour mettre de côté des individus particuliers ou pour analyser des individus d'un autre échantillon"
   ]
  },
  {
   "cell_type": "markdown",
   "metadata": {
    "slideshow": {
     "slide_type": "slide"
    }
   },
   "source": [
    "## Exemple simple\n",
    "\n",
    "Notes obtenues par 9 élèves dans 4 matières (cf Besse and Baccini)\n",
    "\n",
    "```{r donnees}\n",
    "donnees = read.table(text = \"Etudiant & Math & Phys & Fran & Angl\n",
    "jean &  6.00 &  6.00 &  5.00 &  5.50\n",
    "alan &  8.00 &  8.00 &  8.00 &  8.00\n",
    "anni &  6.00 &  7.00 & 11.00 &  9.50\n",
    "moni & 14.50 & 14.50 & 15.50 & 15.00\n",
    "didi & 14.00 & 14.00 & 12.00 & 12.50\n",
    "andr & 11.00 & 10.00 &  5.50 &  7.00\n",
    "pier &  5.50 &  7.00 & 14.00 & 11.50\n",
    "brig & 13.00 & 12.50 &  8.50 &  9.50\n",
    "evel &  9.00 &  9.50 & 12.50 & 12.00\", sep = \"&\", header = T, row.names = 1)\n",
    "\n",
    "knitr::kable(donnees, row.names = T)\n",
    "```\n",
    "\n",
    "---\n",
    "## Variance et corrélation des variables\n",
    "\n",
    "Les variables ont des variances sensiblement différentes.\n",
    "\n",
    "```{r var}\n",
    "knitr::kable(apply(donnees, 2, var), digits = 2)\n",
    "```\n",
    "\n",
    "On voit bien qu'il y a deux groupes de variables.\n",
    "\n",
    "```{r cor}\n",
    "knitr::kable(cor(donnees), digits = 2)\n",
    "```\n",
    "\n",
    "```{r acp}\n",
    "library(FactoMineR)\n",
    "acp = PCA(donnees, graph = FALSE)\n",
    "```\n",
    "\n",
    "---\n",
    "## Part de la variance expliquée\n",
    "\n",
    "```{r eigentab}\n",
    "knitr::kable(round(setNames(data.frame(acp$eig), c(\"Valeur propre\", \"Variance (%)\", \"Cumulée (%)\")), 2), row.names = TRUE)\n",
    "```\n",
    "\n",
    "```{r eigenfig, fig.height=3}\n",
    "par(mar = c(2, 2, 1, 1) + .5)\n",
    "barplot(acp$eig[,2])\n",
    "```\n",
    "\n",
    "2 axes suffisent à représenter `r round(acp$eig[2,3], 1)`% de l'information présente dans les données.\n",
    "\n",
    "---\n",
    "## Représentation graphique\n",
    "\n",
    "```{r graphs}\n",
    "par(mfrow = c(1, 2))\n",
    "plot(acp)\n",
    "plot(acp, choix = \"var\")\n",
    "```\n",
    "\n",
    "---\n",
    "## Individus importants\n",
    "\n",
    "### Contribution\n",
    "\n",
    "```{r indcontrib}\n",
    "indcontrib = setNames(as.data.frame(addmargins(acp$ind$contrib, 1)), paste(\"contrib\", 1:4))\n",
    "knitr::kable(indcontrib, digits = 1)\n",
    "```\n",
    "\n",
    "---\n",
    "## Individus importants\n",
    "\n",
    "### Qualité de représentation\n",
    "\n",
    "```{r indcos2}\n",
    "indcos2 = setNames(as.data.frame(addmargins(acp$ind$cos2, 2)), c(paste(\"qualité\", 1:4), \"Somme\"))\n",
    "knitr::kable(indcos2, digits = 1)\n",
    "```\n",
    "\n",
    "\n",
    "---\n",
    "## Variables importantes \n",
    "\n",
    "### Contribution\n",
    "\n",
    "```{r varcontrib}\n",
    "varcontrib = setNames(as.data.frame(acp$var$contrib), paste(\"contrib\", 1:4))\n",
    "knitr::kable(varcontrib, digits = 1)\n",
    "```\n",
    "\n",
    "### Qualité de représentation\n",
    "\n",
    "```{r varcos2}\n",
    "varcos2 = setNames(as.data.frame(acp$var$cos2), paste(\"qualité\", 1:4))\n",
    "knitr::kable(varcos2, digits = 1)\n",
    "```\n",
    "\n",
    "---\n",
    "## D'autres exemples\n",
    "\n",
    "[Compression d'image](acp-exemple-compression.html)\n",
    "\n",
    "[Visualisation de données](acp-exemple-visualisation.html)"
   ]
  },
  {
   "cell_type": "code",
   "execution_count": null,
   "metadata": {},
   "outputs": [],
   "source": []
  }
 ],
 "metadata": {
  "celltoolbar": "Diaporama",
  "kernelspec": {
   "display_name": "Python 3",
   "language": "python",
   "name": "python3"
  },
  "language_info": {
   "codemirror_mode": {
    "name": "ipython",
    "version": 3
   },
   "file_extension": ".py",
   "mimetype": "text/x-python",
   "name": "python",
   "nbconvert_exporter": "python",
   "pygments_lexer": "ipython3",
   "version": "3.9.9"
  },
  "rise": {
   "theme": "serif",
   "transition": "zoom"
  }
 },
 "nbformat": 4,
 "nbformat_minor": 4
}
