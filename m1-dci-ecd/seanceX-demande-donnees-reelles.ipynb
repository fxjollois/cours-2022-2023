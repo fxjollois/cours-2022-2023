{
 "cells": [
  {
   "cell_type": "markdown",
   "metadata": {},
   "source": [
    "### Exercice - Facebook\n",
    "\n",
    "A priori, ACP + classif possible : à tester\n",
    "\n",
    "http://archive.ics.uci.edu/ml/datasets/Facebook+Live+Sellers+in+Thailand"
   ]
  },
  {
   "cell_type": "code",
   "execution_count": null,
   "metadata": {},
   "outputs": [],
   "source": [
    "fb = pandas.read_csv(\"http://archive.ics.uci.edu/ml/machine-learning-databases/00488/Live_20210128.csv\")\n",
    "fb"
   ]
  },
  {
   "cell_type": "markdown",
   "metadata": {},
   "source": [
    "## Exercice - Spotify\n",
    "\n",
    "A partir des données Spotify disponibles [sur cette page](https://www.kaggle.com/akiboy96/spotify-dataset), nous souhaitons savoir s'il y a des classes qui existent dans ces plus de 40000 chansons. \n",
    "\n",
    "- Télécharger les données\n",
    "- Les importer dans python\n",
    "- Créer un jeu de données comportant uniquement les variables quantitatives suivantes :\n",
    "    - `danceability`\n",
    "    - `energy`\n",
    "    - `loudness`\n",
    "    - `speechiness`\n",
    "    - `acousticness`\n",
    "    - `instrumentalness`\n",
    "    - `liveness`\n",
    "    - `valence`\n",
    "    - `tempo`\n",
    "    - `duration_ms`\n",
    "    - `popularity`\n",
    "- Réduiser les données à 100 classes avec $k$-means\n",
    "- Réaliser une CAH sur ces 100 classes, et estimer le nombre de classes\n",
    "- Refaire $k$-means avec ce nombre de classes obtenus"
   ]
  },
  {
   "cell_type": "code",
   "execution_count": null,
   "metadata": {},
   "outputs": [],
   "source": [
    "import pandas\n",
    "\n",
    "spotify = pandas.read_csv(\"https://fxjollois.github.io/donnees/spotify_dataset.csv\")\n",
    "spotify"
   ]
  }
 ],
 "metadata": {
  "kernelspec": {
   "display_name": "Python 3",
   "language": "python",
   "name": "python3"
  },
  "language_info": {
   "codemirror_mode": {
    "name": "ipython",
    "version": 3
   },
   "file_extension": ".py",
   "mimetype": "text/x-python",
   "name": "python",
   "nbconvert_exporter": "python",
   "pygments_lexer": "ipython3",
   "version": "3.9.9"
  }
 },
 "nbformat": 4,
 "nbformat_minor": 4
}
